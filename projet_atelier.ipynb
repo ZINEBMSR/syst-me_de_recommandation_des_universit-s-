{
 "cells": [
  {
   "cell_type": "code",
   "execution_count": 1,
   "id": "700b0d5a",
   "metadata": {},
   "outputs": [
    {
     "data": {
      "text/html": [
       "<div>\n",
       "<style scoped>\n",
       "    .dataframe tbody tr th:only-of-type {\n",
       "        vertical-align: middle;\n",
       "    }\n",
       "\n",
       "    .dataframe tbody tr th {\n",
       "        vertical-align: top;\n",
       "    }\n",
       "\n",
       "    .dataframe thead th {\n",
       "        text-align: right;\n",
       "    }\n",
       "</style>\n",
       "<table border=\"1\" class=\"dataframe\">\n",
       "  <thead>\n",
       "    <tr style=\"text-align: right;\">\n",
       "      <th></th>\n",
       "      <th>Horodateur</th>\n",
       "      <th>M</th>\n",
       "      <th>HA-M</th>\n",
       "      <th>PC</th>\n",
       "      <th>HA-PC</th>\n",
       "      <th>SVT</th>\n",
       "      <th>HA-SVT</th>\n",
       "      <th>HA-AR</th>\n",
       "      <th>AR</th>\n",
       "      <th>II</th>\n",
       "      <th>...</th>\n",
       "      <th>EPS</th>\n",
       "      <th>HA-EPS</th>\n",
       "      <th>PHILO</th>\n",
       "      <th>HA-PHILO</th>\n",
       "      <th>INFORMATIQUE</th>\n",
       "      <th>HA-INFORMATIQUE</th>\n",
       "      <th>HA-HG</th>\n",
       "      <th>HG</th>\n",
       "      <th>Ecole /Université Après bac</th>\n",
       "      <th>Score</th>\n",
       "    </tr>\n",
       "  </thead>\n",
       "  <tbody>\n",
       "    <tr>\n",
       "      <th>0</th>\n",
       "      <td>NaN</td>\n",
       "      <td>19,5</td>\n",
       "      <td>ENTRE 0 ET 1 H</td>\n",
       "      <td>18,5</td>\n",
       "      <td>ENTRE 0 ET 1 H</td>\n",
       "      <td>13,75</td>\n",
       "      <td>ENTRE 0 ET 1 H</td>\n",
       "      <td>ENTRE 0 ET 1 H</td>\n",
       "      <td>18,25</td>\n",
       "      <td>19,25</td>\n",
       "      <td>...</td>\n",
       "      <td>17,5</td>\n",
       "      <td>+6H</td>\n",
       "      <td>15,5</td>\n",
       "      <td>ENTRE 2 ET 4 H</td>\n",
       "      <td>17,75</td>\n",
       "      <td>ENTRE 2 ET 4 H</td>\n",
       "      <td>ENTRE 2 ET 4 H</td>\n",
       "      <td>15,5</td>\n",
       "      <td>ENSAM</td>\n",
       "      <td>NaN</td>\n",
       "    </tr>\n",
       "    <tr>\n",
       "      <th>1</th>\n",
       "      <td>NaN</td>\n",
       "      <td>19</td>\n",
       "      <td>+6H</td>\n",
       "      <td>19,75</td>\n",
       "      <td>ENTRE 0 ET 1 H</td>\n",
       "      <td>15,75</td>\n",
       "      <td>+6H</td>\n",
       "      <td>ENTRE 2 ET 4 H</td>\n",
       "      <td>16,75</td>\n",
       "      <td>16</td>\n",
       "      <td>...</td>\n",
       "      <td>17</td>\n",
       "      <td>ENTRE 0 ET 1 H</td>\n",
       "      <td>14,75</td>\n",
       "      <td>+6H</td>\n",
       "      <td>17,75</td>\n",
       "      <td>ENTRE 2 ET 4 H</td>\n",
       "      <td>ENTRE 2 ET 4 H</td>\n",
       "      <td>15,5</td>\n",
       "      <td>ENSAM</td>\n",
       "      <td>NaN</td>\n",
       "    </tr>\n",
       "    <tr>\n",
       "      <th>2</th>\n",
       "      <td>NaN</td>\n",
       "      <td>17</td>\n",
       "      <td>+6H</td>\n",
       "      <td>15</td>\n",
       "      <td>+6H</td>\n",
       "      <td>17</td>\n",
       "      <td>+6H</td>\n",
       "      <td>ENTRE 2 ET 4 H</td>\n",
       "      <td>13</td>\n",
       "      <td>17</td>\n",
       "      <td>...</td>\n",
       "      <td>17</td>\n",
       "      <td>ENTRE 2 ET 4 H</td>\n",
       "      <td>17</td>\n",
       "      <td>ENTRE 2 ET 4 H</td>\n",
       "      <td>17</td>\n",
       "      <td>ENTRE 0 ET 1 H</td>\n",
       "      <td>ENTRE 4 ET 6 H</td>\n",
       "      <td>17</td>\n",
       "      <td>ENSMR</td>\n",
       "      <td>NaN</td>\n",
       "    </tr>\n",
       "    <tr>\n",
       "      <th>3</th>\n",
       "      <td>NaN</td>\n",
       "      <td>18</td>\n",
       "      <td>ENTRE 0 ET 1 H</td>\n",
       "      <td>16</td>\n",
       "      <td>ENTRE 2 ET 4 H</td>\n",
       "      <td>14</td>\n",
       "      <td>ENTRE 4 ET 6 H</td>\n",
       "      <td>+6H</td>\n",
       "      <td>18</td>\n",
       "      <td>15</td>\n",
       "      <td>...</td>\n",
       "      <td>18</td>\n",
       "      <td>ENTRE 4 ET 6 H</td>\n",
       "      <td>16</td>\n",
       "      <td>ENTRE 0 ET 1 H</td>\n",
       "      <td>17</td>\n",
       "      <td>ENTRE 0 ET 1 H</td>\n",
       "      <td>ENTRE 4 ET 6 H</td>\n",
       "      <td>17</td>\n",
       "      <td>FST MIP</td>\n",
       "      <td>NaN</td>\n",
       "    </tr>\n",
       "    <tr>\n",
       "      <th>4</th>\n",
       "      <td>NaN</td>\n",
       "      <td>18</td>\n",
       "      <td>ENTRE 0 ET 1 H</td>\n",
       "      <td>19,15</td>\n",
       "      <td>+6H</td>\n",
       "      <td>18,45</td>\n",
       "      <td>ENTRE 0 ET 1 H</td>\n",
       "      <td>ENTRE 4 ET 6 H</td>\n",
       "      <td>16,75</td>\n",
       "      <td>16</td>\n",
       "      <td>...</td>\n",
       "      <td>18</td>\n",
       "      <td>ENTRE 2 ET 4 H</td>\n",
       "      <td>10</td>\n",
       "      <td>ENTRE 4 ET 6 H</td>\n",
       "      <td>20</td>\n",
       "      <td>ENTRE 4 ET 6 H</td>\n",
       "      <td>ENTRE 2 ET 4 H</td>\n",
       "      <td>8</td>\n",
       "      <td>FST MIP</td>\n",
       "      <td>NaN</td>\n",
       "    </tr>\n",
       "  </tbody>\n",
       "</table>\n",
       "<p>5 rows × 25 columns</p>\n",
       "</div>"
      ],
      "text/plain": [
       "  Horodateur     M            HA-M     PC           HA-PC   SVT   \\\n",
       "0        NaN  19,5  ENTRE 0 ET 1 H   18,5  ENTRE 0 ET 1 H  13,75   \n",
       "1        NaN    19             +6H  19,75  ENTRE 0 ET 1 H  15,75   \n",
       "2        NaN    17             +6H     15             +6H     17   \n",
       "3        NaN    18  ENTRE 0 ET 1 H     16  ENTRE 2 ET 4 H     14   \n",
       "4        NaN    18  ENTRE 0 ET 1 H  19,15             +6H  18,45   \n",
       "\n",
       "           HA-SVT           HA-AR     AR     II  ...   EPS          HA-EPS  \\\n",
       "0  ENTRE 0 ET 1 H  ENTRE 0 ET 1 H  18,25  19,25  ...  17,5             +6H   \n",
       "1             +6H  ENTRE 2 ET 4 H  16,75     16  ...    17  ENTRE 0 ET 1 H   \n",
       "2             +6H  ENTRE 2 ET 4 H     13     17  ...    17  ENTRE 2 ET 4 H   \n",
       "3  ENTRE 4 ET 6 H             +6H     18     15  ...    18  ENTRE 4 ET 6 H   \n",
       "4  ENTRE 0 ET 1 H  ENTRE 4 ET 6 H  16,75     16  ...    18  ENTRE 2 ET 4 H   \n",
       "\n",
       "   PHILO        HA-PHILO INFORMATIQUE  HA-INFORMATIQUE            HA-HG    HG  \\\n",
       "0   15,5  ENTRE 2 ET 4 H         17,75   ENTRE 2 ET 4 H  ENTRE 2 ET 4 H  15,5   \n",
       "1  14,75             +6H         17,75   ENTRE 2 ET 4 H  ENTRE 2 ET 4 H  15,5   \n",
       "2     17  ENTRE 2 ET 4 H            17   ENTRE 0 ET 1 H  ENTRE 4 ET 6 H    17   \n",
       "3     16  ENTRE 0 ET 1 H            17   ENTRE 0 ET 1 H  ENTRE 4 ET 6 H    17   \n",
       "4     10  ENTRE 4 ET 6 H            20   ENTRE 4 ET 6 H  ENTRE 2 ET 4 H     8   \n",
       "\n",
       "  Ecole /Université Après bac  Score  \n",
       "0                        ENSAM   NaN  \n",
       "1                        ENSAM   NaN  \n",
       "2                        ENSMR   NaN  \n",
       "3                      FST MIP   NaN  \n",
       "4                      FST MIP   NaN  \n",
       "\n",
       "[5 rows x 25 columns]"
      ]
     },
     "execution_count": 1,
     "metadata": {},
     "output_type": "execute_result"
    }
   ],
   "source": [
    "import pandas as pd\n",
    "df=pd.read_csv(\"PROJET.csv\")\n",
    "df.head()"
   ]
  },
  {
   "cell_type": "code",
   "execution_count": 2,
   "id": "585c2d8a",
   "metadata": {},
   "outputs": [
    {
     "data": {
      "text/html": [
       "<div>\n",
       "<style scoped>\n",
       "    .dataframe tbody tr th:only-of-type {\n",
       "        vertical-align: middle;\n",
       "    }\n",
       "\n",
       "    .dataframe tbody tr th {\n",
       "        vertical-align: top;\n",
       "    }\n",
       "\n",
       "    .dataframe thead th {\n",
       "        text-align: right;\n",
       "    }\n",
       "</style>\n",
       "<table border=\"1\" class=\"dataframe\">\n",
       "  <thead>\n",
       "    <tr style=\"text-align: right;\">\n",
       "      <th></th>\n",
       "      <th>Horodateur</th>\n",
       "      <th>M</th>\n",
       "      <th>HA-M</th>\n",
       "      <th>PC</th>\n",
       "      <th>HA-PC</th>\n",
       "      <th>SVT</th>\n",
       "      <th>HA-SVT</th>\n",
       "      <th>HA-AR</th>\n",
       "      <th>AR</th>\n",
       "      <th>II</th>\n",
       "      <th>...</th>\n",
       "      <th>EPS</th>\n",
       "      <th>HA-EPS</th>\n",
       "      <th>PHILO</th>\n",
       "      <th>HA-PHILO</th>\n",
       "      <th>INFORMATIQUE</th>\n",
       "      <th>HA-INFORMATIQUE</th>\n",
       "      <th>HA-HG</th>\n",
       "      <th>HG</th>\n",
       "      <th>Ecole /Université Après bac</th>\n",
       "      <th>Score</th>\n",
       "    </tr>\n",
       "  </thead>\n",
       "  <tbody>\n",
       "    <tr>\n",
       "      <th>0</th>\n",
       "      <td>True</td>\n",
       "      <td>False</td>\n",
       "      <td>False</td>\n",
       "      <td>False</td>\n",
       "      <td>False</td>\n",
       "      <td>False</td>\n",
       "      <td>False</td>\n",
       "      <td>False</td>\n",
       "      <td>False</td>\n",
       "      <td>False</td>\n",
       "      <td>...</td>\n",
       "      <td>False</td>\n",
       "      <td>False</td>\n",
       "      <td>False</td>\n",
       "      <td>False</td>\n",
       "      <td>False</td>\n",
       "      <td>False</td>\n",
       "      <td>False</td>\n",
       "      <td>False</td>\n",
       "      <td>False</td>\n",
       "      <td>True</td>\n",
       "    </tr>\n",
       "    <tr>\n",
       "      <th>1</th>\n",
       "      <td>True</td>\n",
       "      <td>False</td>\n",
       "      <td>False</td>\n",
       "      <td>False</td>\n",
       "      <td>False</td>\n",
       "      <td>False</td>\n",
       "      <td>False</td>\n",
       "      <td>False</td>\n",
       "      <td>False</td>\n",
       "      <td>False</td>\n",
       "      <td>...</td>\n",
       "      <td>False</td>\n",
       "      <td>False</td>\n",
       "      <td>False</td>\n",
       "      <td>False</td>\n",
       "      <td>False</td>\n",
       "      <td>False</td>\n",
       "      <td>False</td>\n",
       "      <td>False</td>\n",
       "      <td>False</td>\n",
       "      <td>True</td>\n",
       "    </tr>\n",
       "    <tr>\n",
       "      <th>2</th>\n",
       "      <td>True</td>\n",
       "      <td>False</td>\n",
       "      <td>False</td>\n",
       "      <td>False</td>\n",
       "      <td>False</td>\n",
       "      <td>False</td>\n",
       "      <td>False</td>\n",
       "      <td>False</td>\n",
       "      <td>False</td>\n",
       "      <td>False</td>\n",
       "      <td>...</td>\n",
       "      <td>False</td>\n",
       "      <td>False</td>\n",
       "      <td>False</td>\n",
       "      <td>False</td>\n",
       "      <td>False</td>\n",
       "      <td>False</td>\n",
       "      <td>False</td>\n",
       "      <td>False</td>\n",
       "      <td>False</td>\n",
       "      <td>True</td>\n",
       "    </tr>\n",
       "    <tr>\n",
       "      <th>3</th>\n",
       "      <td>True</td>\n",
       "      <td>False</td>\n",
       "      <td>False</td>\n",
       "      <td>False</td>\n",
       "      <td>False</td>\n",
       "      <td>False</td>\n",
       "      <td>False</td>\n",
       "      <td>False</td>\n",
       "      <td>False</td>\n",
       "      <td>False</td>\n",
       "      <td>...</td>\n",
       "      <td>False</td>\n",
       "      <td>False</td>\n",
       "      <td>False</td>\n",
       "      <td>False</td>\n",
       "      <td>False</td>\n",
       "      <td>False</td>\n",
       "      <td>False</td>\n",
       "      <td>False</td>\n",
       "      <td>False</td>\n",
       "      <td>True</td>\n",
       "    </tr>\n",
       "    <tr>\n",
       "      <th>4</th>\n",
       "      <td>True</td>\n",
       "      <td>False</td>\n",
       "      <td>False</td>\n",
       "      <td>False</td>\n",
       "      <td>False</td>\n",
       "      <td>False</td>\n",
       "      <td>False</td>\n",
       "      <td>False</td>\n",
       "      <td>False</td>\n",
       "      <td>False</td>\n",
       "      <td>...</td>\n",
       "      <td>False</td>\n",
       "      <td>False</td>\n",
       "      <td>False</td>\n",
       "      <td>False</td>\n",
       "      <td>False</td>\n",
       "      <td>False</td>\n",
       "      <td>False</td>\n",
       "      <td>False</td>\n",
       "      <td>False</td>\n",
       "      <td>True</td>\n",
       "    </tr>\n",
       "    <tr>\n",
       "      <th>...</th>\n",
       "      <td>...</td>\n",
       "      <td>...</td>\n",
       "      <td>...</td>\n",
       "      <td>...</td>\n",
       "      <td>...</td>\n",
       "      <td>...</td>\n",
       "      <td>...</td>\n",
       "      <td>...</td>\n",
       "      <td>...</td>\n",
       "      <td>...</td>\n",
       "      <td>...</td>\n",
       "      <td>...</td>\n",
       "      <td>...</td>\n",
       "      <td>...</td>\n",
       "      <td>...</td>\n",
       "      <td>...</td>\n",
       "      <td>...</td>\n",
       "      <td>...</td>\n",
       "      <td>...</td>\n",
       "      <td>...</td>\n",
       "      <td>...</td>\n",
       "    </tr>\n",
       "    <tr>\n",
       "      <th>1488</th>\n",
       "      <td>True</td>\n",
       "      <td>False</td>\n",
       "      <td>False</td>\n",
       "      <td>False</td>\n",
       "      <td>False</td>\n",
       "      <td>False</td>\n",
       "      <td>False</td>\n",
       "      <td>False</td>\n",
       "      <td>False</td>\n",
       "      <td>False</td>\n",
       "      <td>...</td>\n",
       "      <td>False</td>\n",
       "      <td>False</td>\n",
       "      <td>False</td>\n",
       "      <td>False</td>\n",
       "      <td>False</td>\n",
       "      <td>False</td>\n",
       "      <td>False</td>\n",
       "      <td>False</td>\n",
       "      <td>False</td>\n",
       "      <td>True</td>\n",
       "    </tr>\n",
       "    <tr>\n",
       "      <th>1489</th>\n",
       "      <td>True</td>\n",
       "      <td>False</td>\n",
       "      <td>False</td>\n",
       "      <td>False</td>\n",
       "      <td>False</td>\n",
       "      <td>False</td>\n",
       "      <td>False</td>\n",
       "      <td>False</td>\n",
       "      <td>False</td>\n",
       "      <td>False</td>\n",
       "      <td>...</td>\n",
       "      <td>False</td>\n",
       "      <td>False</td>\n",
       "      <td>False</td>\n",
       "      <td>False</td>\n",
       "      <td>False</td>\n",
       "      <td>False</td>\n",
       "      <td>False</td>\n",
       "      <td>False</td>\n",
       "      <td>False</td>\n",
       "      <td>True</td>\n",
       "    </tr>\n",
       "    <tr>\n",
       "      <th>1490</th>\n",
       "      <td>True</td>\n",
       "      <td>False</td>\n",
       "      <td>False</td>\n",
       "      <td>False</td>\n",
       "      <td>False</td>\n",
       "      <td>False</td>\n",
       "      <td>False</td>\n",
       "      <td>False</td>\n",
       "      <td>False</td>\n",
       "      <td>False</td>\n",
       "      <td>...</td>\n",
       "      <td>False</td>\n",
       "      <td>False</td>\n",
       "      <td>False</td>\n",
       "      <td>False</td>\n",
       "      <td>False</td>\n",
       "      <td>False</td>\n",
       "      <td>False</td>\n",
       "      <td>False</td>\n",
       "      <td>False</td>\n",
       "      <td>True</td>\n",
       "    </tr>\n",
       "    <tr>\n",
       "      <th>1491</th>\n",
       "      <td>True</td>\n",
       "      <td>False</td>\n",
       "      <td>False</td>\n",
       "      <td>False</td>\n",
       "      <td>False</td>\n",
       "      <td>False</td>\n",
       "      <td>False</td>\n",
       "      <td>False</td>\n",
       "      <td>False</td>\n",
       "      <td>False</td>\n",
       "      <td>...</td>\n",
       "      <td>False</td>\n",
       "      <td>False</td>\n",
       "      <td>False</td>\n",
       "      <td>False</td>\n",
       "      <td>False</td>\n",
       "      <td>False</td>\n",
       "      <td>False</td>\n",
       "      <td>False</td>\n",
       "      <td>False</td>\n",
       "      <td>True</td>\n",
       "    </tr>\n",
       "    <tr>\n",
       "      <th>1492</th>\n",
       "      <td>True</td>\n",
       "      <td>False</td>\n",
       "      <td>False</td>\n",
       "      <td>False</td>\n",
       "      <td>False</td>\n",
       "      <td>False</td>\n",
       "      <td>False</td>\n",
       "      <td>False</td>\n",
       "      <td>False</td>\n",
       "      <td>False</td>\n",
       "      <td>...</td>\n",
       "      <td>False</td>\n",
       "      <td>False</td>\n",
       "      <td>False</td>\n",
       "      <td>False</td>\n",
       "      <td>False</td>\n",
       "      <td>False</td>\n",
       "      <td>False</td>\n",
       "      <td>False</td>\n",
       "      <td>False</td>\n",
       "      <td>True</td>\n",
       "    </tr>\n",
       "  </tbody>\n",
       "</table>\n",
       "<p>1493 rows × 25 columns</p>\n",
       "</div>"
      ],
      "text/plain": [
       "      Horodateur      M   HA-M     PC  HA-PC   SVT   HA-SVT  HA-AR     AR  \\\n",
       "0           True  False  False  False  False  False   False  False  False   \n",
       "1           True  False  False  False  False  False   False  False  False   \n",
       "2           True  False  False  False  False  False   False  False  False   \n",
       "3           True  False  False  False  False  False   False  False  False   \n",
       "4           True  False  False  False  False  False   False  False  False   \n",
       "...          ...    ...    ...    ...    ...    ...     ...    ...    ...   \n",
       "1488        True  False  False  False  False  False   False  False  False   \n",
       "1489        True  False  False  False  False  False   False  False  False   \n",
       "1490        True  False  False  False  False  False   False  False  False   \n",
       "1491        True  False  False  False  False  False   False  False  False   \n",
       "1492        True  False  False  False  False  False   False  False  False   \n",
       "\n",
       "         II  ...    EPS  HA-EPS  PHILO  HA-PHILO  INFORMATIQUE   \\\n",
       "0     False  ...  False   False  False     False          False   \n",
       "1     False  ...  False   False  False     False          False   \n",
       "2     False  ...  False   False  False     False          False   \n",
       "3     False  ...  False   False  False     False          False   \n",
       "4     False  ...  False   False  False     False          False   \n",
       "...     ...  ...    ...     ...    ...       ...            ...   \n",
       "1488  False  ...  False   False  False     False          False   \n",
       "1489  False  ...  False   False  False     False          False   \n",
       "1490  False  ...  False   False  False     False          False   \n",
       "1491  False  ...  False   False  False     False          False   \n",
       "1492  False  ...  False   False  False     False          False   \n",
       "\n",
       "      HA-INFORMATIQUE   HA-HG     HG  Ecole /Université Après bac   Score  \n",
       "0                False  False  False                         False   True  \n",
       "1                False  False  False                         False   True  \n",
       "2                False  False  False                         False   True  \n",
       "3                False  False  False                         False   True  \n",
       "4                False  False  False                         False   True  \n",
       "...                ...    ...    ...                           ...    ...  \n",
       "1488             False  False  False                         False   True  \n",
       "1489             False  False  False                         False   True  \n",
       "1490             False  False  False                         False   True  \n",
       "1491             False  False  False                         False   True  \n",
       "1492             False  False  False                         False   True  \n",
       "\n",
       "[1493 rows x 25 columns]"
      ]
     },
     "execution_count": 2,
     "metadata": {},
     "output_type": "execute_result"
    }
   ],
   "source": [
    "df.isnull()"
   ]
  },
  {
   "cell_type": "code",
   "execution_count": 3,
   "id": "68578d0b",
   "metadata": {},
   "outputs": [
    {
     "data": {
      "text/plain": [
       "Horodateur                      1318\n",
       "M                                  0\n",
       "HA-M                               0\n",
       "PC                                 0\n",
       "HA-PC                              4\n",
       "SVT                                0\n",
       "HA-SVT                             0\n",
       "HA-AR                              0\n",
       "AR                                 0\n",
       "II                                 0\n",
       "HA-II                              3\n",
       "FR                                 0\n",
       "HA-FR                              0\n",
       "ANG                                0\n",
       "HA-ANG                            12\n",
       "EPS                                0\n",
       "HA-EPS                             3\n",
       "PHILO                              0\n",
       "HA-PHILO                           0\n",
       "INFORMATIQUE                      29\n",
       "HA-INFORMATIQUE                    0\n",
       "HA-HG                              0\n",
       "HG                                 0\n",
       "Ecole /Université Après bac        0\n",
       "Score                           1493\n",
       "dtype: int64"
      ]
     },
     "execution_count": 3,
     "metadata": {},
     "output_type": "execute_result"
    }
   ],
   "source": [
    "df.isnull().sum()"
   ]
  },
  {
   "cell_type": "code",
   "execution_count": 4,
   "id": "2ac6be7f",
   "metadata": {},
   "outputs": [],
   "source": [
    "df.drop('Horodateur',axis=1,inplace=True)"
   ]
  },
  {
   "cell_type": "code",
   "execution_count": 5,
   "id": "94049c26",
   "metadata": {},
   "outputs": [],
   "source": [
    "df.drop('Score',axis=1,inplace=True)"
   ]
  },
  {
   "cell_type": "code",
   "execution_count": 6,
   "id": "1ea74bdc",
   "metadata": {},
   "outputs": [],
   "source": [
    "df['HA-EPS'].fillna('ENTRE 2 ET 4 H',inplace=True)"
   ]
  },
  {
   "cell_type": "code",
   "execution_count": 7,
   "id": "4913995a",
   "metadata": {},
   "outputs": [],
   "source": [
    "df['HA-ANG'].fillna('ENTRE 1 ET 2 H',inplace=True)"
   ]
  },
  {
   "cell_type": "code",
   "execution_count": 8,
   "id": "56ad2a49",
   "metadata": {},
   "outputs": [],
   "source": [
    "df['HA-II'].fillna('ENTRE 1 ET 2 H',inplace=True)"
   ]
  },
  {
   "cell_type": "code",
   "execution_count": 9,
   "id": "8fa7507a",
   "metadata": {},
   "outputs": [],
   "source": [
    "df['HA-PC'].fillna('ENTRE 1 ET 2 H',inplace=True)"
   ]
  },
  {
   "cell_type": "code",
   "execution_count": 11,
   "id": "5615c852",
   "metadata": {},
   "outputs": [],
   "source": [
    "import math\n",
    "df['INFORMATIQUE '] = df['INFORMATIQUE '].replace(math.nan,\"20\",inplace=False)\n",
    "df['INFORMATIQUE '] = df['INFORMATIQUE '].apply(lambda x:x.replace(\",\",\".\"))\n",
    "df['INFORMATIQUE '] = df['INFORMATIQUE '].astype(float)"
   ]
  },
  {
   "cell_type": "code",
   "execution_count": 12,
   "id": "8d4fdb7b",
   "metadata": {},
   "outputs": [
    {
     "data": {
      "text/plain": [
       "M                               0\n",
       "HA-M                            0\n",
       "PC                              0\n",
       "HA-PC                           0\n",
       "SVT                             0\n",
       "HA-SVT                          0\n",
       "HA-AR                           0\n",
       "AR                              0\n",
       "II                              0\n",
       "HA-II                           0\n",
       "FR                              0\n",
       "HA-FR                           0\n",
       "ANG                             0\n",
       "HA-ANG                          0\n",
       "EPS                             0\n",
       "HA-EPS                          0\n",
       "PHILO                           0\n",
       "HA-PHILO                        0\n",
       "INFORMATIQUE                    0\n",
       "HA-INFORMATIQUE                 0\n",
       "HA-HG                           0\n",
       "HG                              0\n",
       "Ecole /Université Après bac     0\n",
       "dtype: int64"
      ]
     },
     "execution_count": 12,
     "metadata": {},
     "output_type": "execute_result"
    }
   ],
   "source": [
    "df.isnull().sum()"
   ]
  },
  {
   "cell_type": "code",
   "execution_count": 13,
   "id": "cb3fb268",
   "metadata": {},
   "outputs": [],
   "source": [
    "df['M'] = df['M'].apply(lambda x:x.replace(\",\",\".\"))\n",
    "df['M'] = df['M'].astype(float)"
   ]
  },
  {
   "cell_type": "code",
   "execution_count": 14,
   "id": "0809bfff",
   "metadata": {},
   "outputs": [],
   "source": [
    "df['PC'] = df['PC'].apply(lambda x:x.replace(\",\",\".\"))\n",
    "df['PC'] = df['PC'].astype(float)"
   ]
  },
  {
   "cell_type": "code",
   "execution_count": 16,
   "id": "29655ee1",
   "metadata": {},
   "outputs": [],
   "source": [
    "df['SVT '] = df['SVT '].apply(lambda x:x.replace(\",\",\".\"))\n",
    "df['SVT '] = df['SVT '].astype(float)"
   ]
  },
  {
   "cell_type": "code",
   "execution_count": 17,
   "id": "418262dd",
   "metadata": {},
   "outputs": [],
   "source": [
    "df['AR'] = df['AR'].apply(lambda x:x.replace(\",\",\".\"))\n",
    "df['AR'] = df['AR'].astype(float)"
   ]
  },
  {
   "cell_type": "code",
   "execution_count": 18,
   "id": "7596187f",
   "metadata": {},
   "outputs": [],
   "source": [
    "df['ANG'] = df['ANG'].apply(lambda x:x.replace(\",\",\".\"))\n",
    "df['ANG'] = df['ANG'].astype(float)"
   ]
  },
  {
   "cell_type": "code",
   "execution_count": 19,
   "id": "96a1adbc",
   "metadata": {},
   "outputs": [],
   "source": [
    "df['FR'] = df['FR'].apply(lambda x:x.replace(\",\",\".\"))\n",
    "df['FR'] = df['FR'].astype(float)"
   ]
  },
  {
   "cell_type": "code",
   "execution_count": 20,
   "id": "63ab9a38",
   "metadata": {},
   "outputs": [],
   "source": [
    "df['HG'] = df['HG'].apply(lambda x:x.replace(\",\",\".\"))\n",
    "df['HG'] = df['HG'].astype(float)"
   ]
  },
  {
   "cell_type": "code",
   "execution_count": 21,
   "id": "82ceffa2",
   "metadata": {},
   "outputs": [],
   "source": [
    "df['II'] = df['II'].apply(lambda x:x.replace(\",\",\".\"))\n",
    "df['II'] = df['II'].astype(float)"
   ]
  },
  {
   "cell_type": "code",
   "execution_count": 22,
   "id": "9e465c4d",
   "metadata": {},
   "outputs": [],
   "source": [
    "df['EPS'] = df['EPS'].apply(lambda x:x.replace(\",\",\".\"))\n",
    "df['EPS'] = df['EPS'].astype(float)"
   ]
  },
  {
   "cell_type": "code",
   "execution_count": 23,
   "id": "5c6bcc86",
   "metadata": {},
   "outputs": [],
   "source": [
    "df['PHILO'] = df['PHILO'].apply(lambda x:x.replace(\",\",\".\"))\n",
    "df['PHILO'] = df['PHILO'].astype(float)"
   ]
  },
  {
   "cell_type": "code",
   "execution_count": 27,
   "id": "aecc2425",
   "metadata": {},
   "outputs": [
    {
     "name": "stdout",
     "output_type": "stream",
     "text": [
      "<class 'pandas.core.frame.DataFrame'>\n",
      "RangeIndex: 1493 entries, 0 to 1492\n",
      "Data columns (total 23 columns):\n",
      " #   Column                        Non-Null Count  Dtype  \n",
      "---  ------                        --------------  -----  \n",
      " 0   M                             1493 non-null   float64\n",
      " 1   HA-M                          1493 non-null   object \n",
      " 2   PC                            1493 non-null   float64\n",
      " 3   HA-PC                         1493 non-null   object \n",
      " 4   SVT                           1493 non-null   float64\n",
      " 5   HA-SVT                        1493 non-null   object \n",
      " 6   HA-AR                         1493 non-null   object \n",
      " 7   AR                            1493 non-null   float64\n",
      " 8   II                            1493 non-null   float64\n",
      " 9   HA-II                         1493 non-null   object \n",
      " 10  FR                            1493 non-null   float64\n",
      " 11  HA-FR                         1493 non-null   object \n",
      " 12  ANG                           1493 non-null   float64\n",
      " 13  HA-ANG                        1493 non-null   object \n",
      " 14  EPS                           1493 non-null   float64\n",
      " 15  HA-EPS                        1493 non-null   object \n",
      " 16  PHILO                         1493 non-null   float64\n",
      " 17  HA-PHILO                      1493 non-null   object \n",
      " 18  INFORMATIQUE                  1493 non-null   float64\n",
      " 19  HA-INFORMATIQUE               1493 non-null   object \n",
      " 20  HA-HG                         1493 non-null   object \n",
      " 21  HG                            1493 non-null   float64\n",
      " 22  Ecole /Université Après bac   1493 non-null   object \n",
      "dtypes: float64(11), object(12)\n",
      "memory usage: 268.4+ KB\n"
     ]
    }
   ],
   "source": [
    "df.info()"
   ]
  },
  {
   "cell_type": "code",
   "execution_count": 28,
   "id": "ec73447e",
   "metadata": {},
   "outputs": [],
   "source": [
    "df.replace(to_replace=r'ENTRE 0 ET 1 H', value='0.5', regex=True,inplace=True)"
   ]
  },
  {
   "cell_type": "code",
   "execution_count": 29,
   "id": "dbaaa387",
   "metadata": {},
   "outputs": [],
   "source": [
    "df.replace(to_replace=r'ENTRE 1 ET 2 H', value='1.5', regex=True,inplace=True)"
   ]
  },
  {
   "cell_type": "code",
   "execution_count": 30,
   "id": "82222d49",
   "metadata": {},
   "outputs": [],
   "source": [
    "df.replace(to_replace=r'ENTRE 2 ET 4 H', value='3', regex=True,inplace=True)"
   ]
  },
  {
   "cell_type": "code",
   "execution_count": 31,
   "id": "650cec44",
   "metadata": {},
   "outputs": [],
   "source": [
    "df.replace(to_replace=r'ENTRE 4 ET 6 H', value='5', regex=True,inplace=True)"
   ]
  },
  {
   "cell_type": "code",
   "execution_count": 32,
   "id": "1d2e2ffc",
   "metadata": {},
   "outputs": [],
   "source": [
    "df.replace(to_replace=r'+6H', value='8',inplace=True)"
   ]
  },
  {
   "cell_type": "code",
   "execution_count": 33,
   "id": "f8ab6477",
   "metadata": {},
   "outputs": [],
   "source": [
    "df['HA-M'] = df['HA-M'].astype(float)"
   ]
  },
  {
   "cell_type": "code",
   "execution_count": 34,
   "id": "ca20394b",
   "metadata": {},
   "outputs": [],
   "source": [
    "df['HA-PC'] = df['HA-PC'].astype(float)"
   ]
  },
  {
   "cell_type": "code",
   "execution_count": 35,
   "id": "6a9bcfe9",
   "metadata": {},
   "outputs": [],
   "source": [
    "df['HA-SVT'] = df['HA-SVT'].astype(float)"
   ]
  },
  {
   "cell_type": "code",
   "execution_count": 36,
   "id": "04b625fb",
   "metadata": {},
   "outputs": [],
   "source": [
    "df['HA-II'] = df['HA-II'].astype(float)"
   ]
  },
  {
   "cell_type": "code",
   "execution_count": 37,
   "id": "8eda117d",
   "metadata": {},
   "outputs": [],
   "source": [
    "df['HA-HG'] = df['HA-HG'].astype(float)"
   ]
  },
  {
   "cell_type": "code",
   "execution_count": 38,
   "id": "c742b54a",
   "metadata": {},
   "outputs": [],
   "source": [
    "df['HA-AR'] = df['HA-AR'].astype(float)"
   ]
  },
  {
   "cell_type": "code",
   "execution_count": 39,
   "id": "00b1f407",
   "metadata": {},
   "outputs": [],
   "source": [
    "df['HA-ANG'] = df['HA-ANG'].astype(float)"
   ]
  },
  {
   "cell_type": "code",
   "execution_count": 40,
   "id": "4d4fabf1",
   "metadata": {},
   "outputs": [],
   "source": [
    "df['HA-FR'] = df['HA-FR'].astype(float)"
   ]
  },
  {
   "cell_type": "code",
   "execution_count": 41,
   "id": "a62c636c",
   "metadata": {},
   "outputs": [],
   "source": [
    "df['HA-EPS'] = df['HA-EPS'].astype(float)"
   ]
  },
  {
   "cell_type": "code",
   "execution_count": 42,
   "id": "9ff91d3f",
   "metadata": {},
   "outputs": [],
   "source": [
    "df['HA-PHILO'] = df['HA-PHILO'].astype(float)"
   ]
  },
  {
   "cell_type": "code",
   "execution_count": 44,
   "id": "51418d62",
   "metadata": {},
   "outputs": [],
   "source": [
    "df['HA-INFORMATIQUE '] = df['HA-INFORMATIQUE '].astype(float)"
   ]
  },
  {
   "cell_type": "code",
   "execution_count": 45,
   "id": "f28d234d",
   "metadata": {},
   "outputs": [
    {
     "name": "stdout",
     "output_type": "stream",
     "text": [
      "<class 'pandas.core.frame.DataFrame'>\n",
      "RangeIndex: 1493 entries, 0 to 1492\n",
      "Data columns (total 23 columns):\n",
      " #   Column                        Non-Null Count  Dtype  \n",
      "---  ------                        --------------  -----  \n",
      " 0   M                             1493 non-null   float64\n",
      " 1   HA-M                          1493 non-null   float64\n",
      " 2   PC                            1493 non-null   float64\n",
      " 3   HA-PC                         1493 non-null   float64\n",
      " 4   SVT                           1493 non-null   float64\n",
      " 5   HA-SVT                        1493 non-null   float64\n",
      " 6   HA-AR                         1493 non-null   float64\n",
      " 7   AR                            1493 non-null   float64\n",
      " 8   II                            1493 non-null   float64\n",
      " 9   HA-II                         1493 non-null   float64\n",
      " 10  FR                            1493 non-null   float64\n",
      " 11  HA-FR                         1493 non-null   float64\n",
      " 12  ANG                           1493 non-null   float64\n",
      " 13  HA-ANG                        1493 non-null   float64\n",
      " 14  EPS                           1493 non-null   float64\n",
      " 15  HA-EPS                        1493 non-null   float64\n",
      " 16  PHILO                         1493 non-null   float64\n",
      " 17  HA-PHILO                      1493 non-null   float64\n",
      " 18  INFORMATIQUE                  1493 non-null   float64\n",
      " 19  HA-INFORMATIQUE               1493 non-null   float64\n",
      " 20  HA-HG                         1493 non-null   float64\n",
      " 21  HG                            1493 non-null   float64\n",
      " 22  Ecole /Université Après bac   1493 non-null   object \n",
      "dtypes: float64(22), object(1)\n",
      "memory usage: 268.4+ KB\n"
     ]
    }
   ],
   "source": [
    "df.info()"
   ]
  },
  {
   "cell_type": "code",
   "execution_count": 46,
   "id": "348b0891",
   "metadata": {},
   "outputs": [],
   "source": [
    "import pandas as pd\n",
    "from sklearn.preprocessing import LabelEncoder\n",
    "lbl_encode = LabelEncoder()"
   ]
  },
  {
   "cell_type": "code",
   "execution_count": 47,
   "id": "e390dbb4",
   "metadata": {},
   "outputs": [
    {
     "data": {
      "text/plain": [
       "array([ 6,  6, 10, ...,  6,  5,  6])"
      ]
     },
     "execution_count": 47,
     "metadata": {},
     "output_type": "execute_result"
    }
   ],
   "source": [
    "lbl_encode.fit_transform(df['Ecole /Université Après bac '])"
   ]
  },
  {
   "cell_type": "code",
   "execution_count": 48,
   "id": "12039e54",
   "metadata": {},
   "outputs": [],
   "source": [
    "df['Ecole /Université Après bac label']=lbl_encode.fit_transform(df['Ecole /Université Après bac '])"
   ]
  },
  {
   "cell_type": "code",
   "execution_count": 49,
   "id": "02753113",
   "metadata": {},
   "outputs": [
    {
     "data": {
      "text/plain": [
       "16    186\n",
       "18    182\n",
       "4     159\n",
       "22    127\n",
       "6      96\n",
       "14     82\n",
       "8      79\n",
       "24     78\n",
       "15     65\n",
       "13     59\n",
       "3      46\n",
       "7      43\n",
       "17     42\n",
       "12     42\n",
       "5      38\n",
       "25     31\n",
       "9      27\n",
       "11     22\n",
       "0      21\n",
       "21     18\n",
       "20     11\n",
       "23     11\n",
       "1      10\n",
       "10      7\n",
       "2       7\n",
       "19      4\n",
       "Name: Ecole /Université Après bac label, dtype: int64"
      ]
     },
     "execution_count": 49,
     "metadata": {},
     "output_type": "execute_result"
    }
   ],
   "source": [
    "df['Ecole /Université Après bac label'].value_counts()"
   ]
  },
  {
   "cell_type": "code",
   "execution_count": 50,
   "id": "9fa6e8c6",
   "metadata": {},
   "outputs": [
    {
     "data": {
      "text/plain": [
       "Faculté lettre                                              186\n",
       "Faculté science                                             182\n",
       "ENS                                                         159\n",
       "ISMEM                                                       127\n",
       "ENSAM                                                        96\n",
       "FST MIP                                                      82\n",
       "ENSET                                                        79\n",
       "ISSS                                                         78\n",
       "Faculté des Sciences Juridiques, Economiques et Sociales     65\n",
       "FST BCG                                                      59\n",
       "ENCG                                                         46\n",
       "ENSEM                                                        43\n",
       "EST                                                          42\n",
       "Faculté medecine pharmacie                                   42\n",
       "ENSA                                                         38\n",
       "Université Al Akhawayn                                       31\n",
       "ENSIAS                                                       27\n",
       "ESITH                                                        22\n",
       "EHTP                                                         21\n",
       "ISITT                                                        18\n",
       "ISPIT                                                        11\n",
       "INPT                                                         11\n",
       "EMI                                                          10\n",
       "ENA                                                           7\n",
       "ENSMR                                                         7\n",
       "IAV                                                           4\n",
       "Name: Ecole /Université Après bac , dtype: int64"
      ]
     },
     "execution_count": 50,
     "metadata": {},
     "output_type": "execute_result"
    }
   ],
   "source": [
    "df['Ecole /Université Après bac '].value_counts()"
   ]
  },
  {
   "cell_type": "code",
   "execution_count": null,
   "id": "d04ff6e9",
   "metadata": {},
   "outputs": [],
   "source": []
  }
 ],
 "metadata": {
  "kernelspec": {
   "display_name": "Python 3",
   "language": "python",
   "name": "python3"
  },
  "language_info": {
   "codemirror_mode": {
    "name": "ipython",
    "version": 3
   },
   "file_extension": ".py",
   "mimetype": "text/x-python",
   "name": "python",
   "nbconvert_exporter": "python",
   "pygments_lexer": "ipython3",
   "version": "3.8.8"
  }
 },
 "nbformat": 4,
 "nbformat_minor": 5
}
